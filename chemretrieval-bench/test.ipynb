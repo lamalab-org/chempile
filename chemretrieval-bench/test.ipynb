{
 "cells": [
  {
   "cell_type": "code",
   "execution_count": 1,
   "id": "4bab691d",
   "metadata": {},
   "outputs": [
    {
     "name": "stderr",
     "output_type": "stream",
     "text": [
      "/Users/kevinmaikjablonka/miniconda3/envs/chemenv/lib/python3.11/site-packages/tqdm/auto.py:21: TqdmWarning: IProgress not found. Please update jupyter and ipywidgets. See https://ipywidgets.readthedocs.io/en/stable/user_install.html\n",
      "  from .autonotebook import tqdm as notebook_tqdm\n"
     ]
    }
   ],
   "source": [
    "from datasets import load_dataset\n",
    "from openai import OpenAI\n",
    "from  dotenv import load_dotenv\n",
    "\n",
    "load_dotenv()\n",
    "client = OpenAI()\n"
   ]
  },
  {
   "cell_type": "code",
   "execution_count": 2,
   "id": "8864adcd",
   "metadata": {},
   "outputs": [],
   "source": [
    "ds_core = load_dataset(\"BASF-AI/ChemHotpotQARetrieval\", \"default\")\n",
    "ds_corpus = load_dataset(\"BASF-AI/ChemHotpotQARetrieval\", \"corpus\")\n",
    "ds_queries = load_dataset(\"BASF-AI/ChemHotpotQARetrieval\", \"queries\")"
   ]
  },
  {
   "cell_type": "code",
   "execution_count": 5,
   "id": "273386d3",
   "metadata": {},
   "outputs": [],
   "source": [
    "def get_embedding(text):\n",
    "    response = client.embeddings.create(\n",
    "        input=text,\n",
    "        model=\"text-embedding-3-small\"\n",
    "    )\n",
    "    return response.data[0].embedding"
   ]
  },
  {
   "cell_type": "code",
   "execution_count": null,
   "id": "fd8f770b",
   "metadata": {},
   "outputs": [],
   "source": [
    "df_core"
   ]
  },
  {
   "cell_type": "code",
   "execution_count": null,
   "id": "c9107743",
   "metadata": {},
   "outputs": [],
   "source": [
    "corpus_embeddings = [get_embedding(text) for text in ds_corpus['corpus']['text']]"
   ]
  },
  {
   "cell_type": "code",
   "execution_count": null,
   "id": "27e68d53",
   "metadata": {},
   "outputs": [],
   "source": [
    "def ndcd_at_10(predictions, ground_truths):\n",
    "    \"\"\"\n",
    "    Calculate the Normalized Discounted Cumulative Gain (NDCG) at rank 10.\n",
    "    \"\"\"\n",
    "    dcg = 0.0\n",
    "    idcg = 0.0\n",
    "\n",
    "    for i in range(min(10, len(predictions))):\n",
    "        if predictions[i] in ground_truths:\n",
    "            dcg += 1 / (i + 1)\n",
    "        idcg += 1 / (i + 1)\n",
    "\n",
    "    return dcg / idcg if idcg > 0 else 0.0"
   ]
  },
  {
   "cell_type": "code",
   "execution_count": null,
   "id": "7189f061",
   "metadata": {},
   "outputs": [],
   "source": []
  }
 ],
 "metadata": {
  "kernelspec": {
   "display_name": "chemenv",
   "language": "python",
   "name": "python3"
  },
  "language_info": {
   "codemirror_mode": {
    "name": "ipython",
    "version": 3
   },
   "file_extension": ".py",
   "mimetype": "text/x-python",
   "name": "python",
   "nbconvert_exporter": "python",
   "pygments_lexer": "ipython3",
   "version": "3.11.9"
  }
 },
 "nbformat": 4,
 "nbformat_minor": 5
}

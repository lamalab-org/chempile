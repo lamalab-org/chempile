{
 "cells": [
  {
   "cell_type": "code",
   "execution_count": 77,
   "id": "cd886cae",
   "metadata": {},
   "outputs": [
    {
     "name": "stdout",
     "output_type": "stream",
     "text": [
      "Collecting scikit-learn\n",
      "  Downloading scikit_learn-1.7.1-cp311-cp311-macosx_12_0_arm64.whl.metadata (11 kB)\n",
      "Requirement already satisfied: numpy>=1.22.0 in /Users/kevinmaikjablonka/miniconda3/envs/chemenv/lib/python3.11/site-packages (from scikit-learn) (1.26.4)\n",
      "Collecting scipy>=1.8.0 (from scikit-learn)\n",
      "  Downloading scipy-1.16.0-cp311-cp311-macosx_14_0_arm64.whl.metadata (61 kB)\n",
      "\u001b[2K     \u001b[38;2;114;156;31m━━━━━━━━━━━━━━━━━━━━━━━━━━━━━━━━━━━━━━━\u001b[0m \u001b[32m61.9/61.9 kB\u001b[0m \u001b[31m115.9 kB/s\u001b[0m eta \u001b[36m0:00:00\u001b[0m kB/s\u001b[0m eta \u001b[36m0:00:01\u001b[0m:01\u001b[0m\n",
      "\u001b[?25hCollecting joblib>=1.2.0 (from scikit-learn)\n",
      "  Downloading joblib-1.5.1-py3-none-any.whl.metadata (5.6 kB)\n",
      "Collecting threadpoolctl>=3.1.0 (from scikit-learn)\n",
      "  Downloading threadpoolctl-3.6.0-py3-none-any.whl.metadata (13 kB)\n",
      "Downloading scikit_learn-1.7.1-cp311-cp311-macosx_12_0_arm64.whl (8.7 MB)\n",
      "\u001b[2K   \u001b[38;2;114;156;31m━━━━━━━━━━━━━━━━━━━━━━━━━━━━━━━━━━━━━━━━\u001b[0m \u001b[32m8.7/8.7 MB\u001b[0m \u001b[31m833.8 kB/s\u001b[0m eta \u001b[36m0:00:00\u001b[0mm eta \u001b[36m0:00:01\u001b[0m0:01\u001b[0m:01\u001b[0m\n",
      "\u001b[?25hDownloading joblib-1.5.1-py3-none-any.whl (307 kB)\n",
      "\u001b[2K   \u001b[38;2;114;156;31m━━━━━━━━━━━━━━━━━━━━━━━━━━━━━━━━━━━━━━━━\u001b[0m \u001b[32m307.7/307.7 kB\u001b[0m \u001b[31m2.1 MB/s\u001b[0m eta \u001b[36m0:00:00\u001b[0m[31m2.4 MB/s\u001b[0m eta \u001b[36m0:00:01\u001b[0m\n",
      "\u001b[?25hDownloading scipy-1.16.0-cp311-cp311-macosx_14_0_arm64.whl (20.8 MB)\n",
      "\u001b[2K   \u001b[38;2;114;156;31m━━━━━━━━━━━━━━━━━━━━━━━━━━━━━━━━━━━━━━━━\u001b[0m \u001b[32m20.8/20.8 MB\u001b[0m \u001b[31m2.9 MB/s\u001b[0m eta \u001b[36m0:00:00\u001b[0mm eta \u001b[36m0:00:01\u001b[0m[36m0:00:01\u001b[0m\n",
      "\u001b[?25hDownloading threadpoolctl-3.6.0-py3-none-any.whl (18 kB)\n",
      "Installing collected packages: threadpoolctl, scipy, joblib, scikit-learn\n",
      "Successfully installed joblib-1.5.1 scikit-learn-1.7.1 scipy-1.16.0 threadpoolctl-3.6.0\n"
     ]
    }
   ],
   "source": [
    "!pip install scikit-learn"
   ]
  },
  {
   "cell_type": "code",
   "execution_count": 78,
   "id": "4bab691d",
   "metadata": {},
   "outputs": [],
   "source": [
    "from datasets import load_dataset\n",
    "from openai import OpenAI\n",
    "from  dotenv import load_dotenv\n",
    "import numpy as np\n",
    "import pandas as pd\n",
    "from sklearn.metrics.pairwise import cosine_similarity\n",
    "from typing import List\n",
    "load_dotenv()\n",
    "client = OpenAI()\n"
   ]
  },
  {
   "cell_type": "code",
   "execution_count": 36,
   "id": "8864adcd",
   "metadata": {},
   "outputs": [
    {
     "name": "stderr",
     "output_type": "stream",
     "text": [
      "Using the latest cached version of the dataset since BASF-AI/ChemHotpotQARetrieval couldn't be found on the Hugging Face Hub\n",
      "Found the latest cached dataset configuration 'default' at /Users/kevinmaikjablonka/.cache/huggingface/datasets/BASF-AI___chem_hotpot_qa_retrieval/default/0.0.0/1840e8a5ac6ec752bbdd97d543ead0189bc7c25b (last modified on Fri Jul 25 22:36:13 2025).\n",
      "Using the latest cached version of the dataset since BASF-AI/ChemHotpotQARetrieval couldn't be found on the Hugging Face Hub\n",
      "Found the latest cached dataset configuration 'corpus' at /Users/kevinmaikjablonka/.cache/huggingface/datasets/BASF-AI___chem_hotpot_qa_retrieval/corpus/0.0.0/1840e8a5ac6ec752bbdd97d543ead0189bc7c25b (last modified on Fri Jul 25 23:04:49 2025).\n",
      "Using the latest cached version of the dataset since BASF-AI/ChemHotpotQARetrieval couldn't be found on the Hugging Face Hub\n",
      "Found the latest cached dataset configuration 'queries' at /Users/kevinmaikjablonka/.cache/huggingface/datasets/BASF-AI___chem_hotpot_qa_retrieval/queries/0.0.0/1840e8a5ac6ec752bbdd97d543ead0189bc7c25b (last modified on Fri Jul 25 22:36:16 2025).\n"
     ]
    }
   ],
   "source": [
    "ds_core = load_dataset(\"BASF-AI/ChemHotpotQARetrieval\", \"default\")\n",
    "ds_corpus = load_dataset(\"BASF-AI/ChemHotpotQARetrieval\", \"corpus\")\n",
    "ds_queries = load_dataset(\"BASF-AI/ChemHotpotQARetrieval\", \"queries\")"
   ]
  },
  {
   "cell_type": "code",
   "execution_count": 35,
   "id": "273386d3",
   "metadata": {},
   "outputs": [],
   "source": [
    "def get_embedding(text):\n",
    "    response = client.embeddings.create(\n",
    "        input=text,\n",
    "        model=\"text-embedding-3-small\"\n",
    "    )\n",
    "    return response.data[0].embedding"
   ]
  },
  {
   "cell_type": "code",
   "execution_count": 6,
   "id": "c9107743",
   "metadata": {},
   "outputs": [],
   "source": [
    "corpus_embeddings = [get_embedding(text) for text in ds_corpus['corpus']['text']]"
   ]
  },
  {
   "cell_type": "code",
   "execution_count": 10,
   "id": "dc560eaf",
   "metadata": {},
   "outputs": [],
   "source": [
    "def save_embeddings(embeddings, filename):\n",
    "    np.save(filename, embeddings)"
   ]
  },
  {
   "cell_type": "code",
   "execution_count": 11,
   "id": "2d973367",
   "metadata": {},
   "outputs": [],
   "source": [
    "save_embeddings(corpus_embeddings, \"corpus_embeddings.npy\")"
   ]
  },
  {
   "cell_type": "code",
   "execution_count": 37,
   "id": "53f9307f",
   "metadata": {},
   "outputs": [],
   "source": [
    "queries_embeddings  = [get_embedding(text) for text in ds_queries['queries']['text']]"
   ]
  },
  {
   "cell_type": "code",
   "execution_count": 38,
   "id": "00624b15",
   "metadata": {},
   "outputs": [],
   "source": [
    "save_embeddings(queries_embeddings, \"queries_embeddings.npy\")"
   ]
  },
  {
   "cell_type": "code",
   "execution_count": null,
   "id": "d70aafd2",
   "metadata": {},
   "outputs": [],
   "source": [
    "corpus_embeddings = np.load('corpus_embeddings.npy')\n",
    "queries_embeddings = np.load('cqueries_embeddings.npy')"
   ]
  },
  {
   "cell_type": "code",
   "execution_count": 79,
   "id": "27e68d53",
   "metadata": {},
   "outputs": [],
   "source": [
    "\n",
    "\n",
    "def compute_dcg_at_k(relevances: List[float], k: int) -> float:\n",
    "    \"\"\"\n",
    "    Compute Discounted Cumulative Gain at rank k.\n",
    "    \n",
    "    Args:\n",
    "        relevances: List of relevance scores for ranked items\n",
    "        k: Rank cutoff\n",
    "    \n",
    "    Returns:\n",
    "        DCG@k score\n",
    "    \"\"\"\n",
    "    relevances = np.array(relevances[:k])\n",
    "    if len(relevances) == 0:\n",
    "        return 0.0\n",
    "    \n",
    "    # DCG formula: sum((2^rel - 1) / log2(rank + 1)) for rank 1 to k\n",
    "    ranks = np.arange(1, len(relevances) + 1)\n",
    "    dcg = np.sum((2**relevances - 1) / np.log2(ranks + 1))\n",
    "    return dcg\n",
    "\n",
    "def compute_ndcg_at_k(relevances: List[float], k: int) -> float:\n",
    "    \"\"\"\n",
    "    Compute Normalized Discounted Cumulative Gain at rank k.\n",
    "    \n",
    "    Args:\n",
    "        relevances: List of relevance scores for ranked items\n",
    "        k: Rank cutoff\n",
    "    \n",
    "    Returns:\n",
    "        NDCG@k score\n",
    "    \"\"\"\n",
    "    # Actual DCG\n",
    "    dcg = compute_dcg_at_k(relevances, k)\n",
    "    \n",
    "    # Ideal DCG (sort relevances in descending order)\n",
    "    ideal_relevances = sorted(relevances, reverse=True)\n",
    "    idcg = compute_dcg_at_k(ideal_relevances, k)\n",
    "    \n",
    "    if idcg == 0:\n",
    "        return 0.0\n",
    "    \n",
    "    return dcg / idcg"
   ]
  },
  {
   "cell_type": "code",
   "execution_count": 41,
   "id": "e4249c07",
   "metadata": {},
   "outputs": [],
   "source": [
    "queries_embeddings = np.array(queries_embeddings)\n",
    "corpus_embeddings = np.array(corpus_embeddings)"
   ]
  },
  {
   "cell_type": "code",
   "execution_count": 42,
   "id": "c23355e3",
   "metadata": {},
   "outputs": [
    {
     "data": {
      "application/vnd.microsoft.datawrangler.viewer.v0+json": {
       "columns": [
        {
         "name": "index",
         "rawType": "int64",
         "type": "integer"
        },
        {
         "name": "query-id",
         "rawType": "object",
         "type": "string"
        },
        {
         "name": "corpus-id",
         "rawType": "object",
         "type": "string"
        },
        {
         "name": "score",
         "rawType": "float64",
         "type": "float"
        }
       ],
       "ref": "dd8ced4b-78ec-44ea-a584-493bcd0e4129",
       "rows": [
        [
         "0",
         "5ae75ace5542997b22f6a6f3",
         "3395507",
         "1.0"
        ],
        [
         "1",
         "5adc2d51554299438c868d69",
         "322632",
         "1.0"
        ],
        [
         "2",
         "5ae0f0f95542990adbacf6e8",
         "18459715",
         "1.0"
        ],
        [
         "3",
         "5abeb1a45542990832d3a0b4",
         "1049937",
         "1.0"
        ],
        [
         "4",
         "5ac313e75542995ef918c0f7",
         "40367176",
         "1.0"
        ],
        [
         "5",
         "5a874ec2554299211dda2bd4",
         "54025008",
         "1.0"
        ],
        [
         "6",
         "5ab2857b554299340b5254f9",
         "14426270",
         "1.0"
        ],
        [
         "7",
         "5adbfa3c55429947ff173884",
         "1032674",
         "1.0"
        ],
        [
         "8",
         "5a755ce25542992d0ec05f6e",
         "1002560",
         "1.0"
        ],
        [
         "9",
         "5a7b33f45542995eb53be8ca",
         "23105042",
         "1.0"
        ],
        [
         "10",
         "5ac3d9a1554299204fd21ea2",
         "26576582",
         "1.0"
        ],
        [
         "11",
         "5a8e149f554299068b959e50",
         "20408",
         "1.0"
        ],
        [
         "12",
         "5a8520e65542994c784ddb06",
         "20408",
         "1.0"
        ],
        [
         "13",
         "5ab9b98355429970cfb8eb82",
         "42754865",
         "1.0"
        ],
        [
         "14",
         "5a794b9855429970f5fffe8f",
         "32593",
         "1.0"
        ],
        [
         "15",
         "5abba14f5542996cc5e4a02c",
         "49926466",
         "1.0"
        ],
        [
         "16",
         "5a7fb8415542994857a767d6",
         "155725",
         "1.0"
        ],
        [
         "17",
         "5ae497645542995dadf24366",
         "2964944",
         "1.0"
        ],
        [
         "18",
         "5a87c4405542997e5c09a56b",
         "376458",
         "1.0"
        ],
        [
         "19",
         "5abc113f554299700f9d77cc",
         "43746250",
         "1.0"
        ],
        [
         "20",
         "5ab492585542991779162ce4",
         "67963",
         "1.0"
        ],
        [
         "21",
         "5abd7e2155429924427fd019",
         "28115979",
         "1.0"
        ],
        [
         "22",
         "5a7a312f5542996a35c17129",
         "2308",
         "1.0"
        ],
        [
         "23",
         "5a811b2055429938b61422c9",
         "1160690",
         "1.0"
        ],
        [
         "24",
         "5a838fa45542996488c2e458",
         "53986905",
         "1.0"
        ],
        [
         "25",
         "5a74fb915542993748c89776",
         "873709",
         "1.0"
        ],
        [
         "26",
         "5ab44beb5542991779162c5c",
         "76442",
         "1.0"
        ],
        [
         "27",
         "5a7791b65542995d831811de",
         "597029",
         "1.0"
        ],
        [
         "28",
         "5add10425542994ed6169c57",
         "376458",
         "1.0"
        ],
        [
         "29",
         "5abfc3b85542997719eab6bf",
         "873709",
         "1.0"
        ],
        [
         "30",
         "5a7feaf75542994857a7684c",
         "27159",
         "1.0"
        ],
        [
         "31",
         "5a7b1a3b554299042af8f6cc",
         "16078662",
         "1.0"
        ],
        [
         "32",
         "5ab4eb2b55429942dd415fa2",
         "14352",
         "1.0"
        ],
        [
         "33",
         "5ab2f608554299166977415a",
         "59473",
         "1.0"
        ],
        [
         "34",
         "5ac19a0a55429964131be252",
         "9603",
         "1.0"
        ],
        [
         "35",
         "5ab830435542990e739ec867",
         "2747201",
         "1.0"
        ],
        [
         "36",
         "5abbd2ed55429931dba14585",
         "32593",
         "1.0"
        ],
        [
         "37",
         "5ae3bb0e5542992e3233c460",
         "11385289",
         "1.0"
        ],
        [
         "38",
         "5a74dc8a5542996c70cfae1e",
         "2873504",
         "1.0"
        ],
        [
         "39",
         "5ae724b45542995703ce8bd7",
         "2223301",
         "1.0"
        ],
        [
         "40",
         "5ab9da2b55429901930fa733",
         "43016216",
         "1.0"
        ],
        [
         "41",
         "5ae83a2e5542997ec272777e",
         "16590526",
         "1.0"
        ],
        [
         "42",
         "5a8da6c0554299441c6ba02c",
         "14426270",
         "1.0"
        ],
        [
         "43",
         "5a81950455429903bc27b979",
         "2223301",
         "1.0"
        ],
        [
         "44",
         "5adf1d665542995534e8c758",
         "18595",
         "1.0"
        ],
        [
         "45",
         "5ae32fbd5542990afbd1e0d1",
         "699689",
         "1.0"
        ],
        [
         "46",
         "5ac325f7554299657fa290e9",
         "826956",
         "1.0"
        ],
        [
         "47",
         "5a7f2e83554299306751367d",
         "3395507",
         "1.0"
        ],
        [
         "48",
         "5a8ad93b5542992d82986fa4",
         "47836463",
         "1.0"
        ],
        [
         "49",
         "5a89e3a5554299669944a5f7",
         "14352",
         "1.0"
        ]
       ],
       "shape": {
        "columns": 3,
        "rows": 187
       }
      },
      "text/html": [
       "<div>\n",
       "<style scoped>\n",
       "    .dataframe tbody tr th:only-of-type {\n",
       "        vertical-align: middle;\n",
       "    }\n",
       "\n",
       "    .dataframe tbody tr th {\n",
       "        vertical-align: top;\n",
       "    }\n",
       "\n",
       "    .dataframe thead th {\n",
       "        text-align: right;\n",
       "    }\n",
       "</style>\n",
       "<table border=\"1\" class=\"dataframe\">\n",
       "  <thead>\n",
       "    <tr style=\"text-align: right;\">\n",
       "      <th></th>\n",
       "      <th>query-id</th>\n",
       "      <th>corpus-id</th>\n",
       "      <th>score</th>\n",
       "    </tr>\n",
       "  </thead>\n",
       "  <tbody>\n",
       "    <tr>\n",
       "      <th>0</th>\n",
       "      <td>5ae75ace5542997b22f6a6f3</td>\n",
       "      <td>3395507</td>\n",
       "      <td>1.0</td>\n",
       "    </tr>\n",
       "    <tr>\n",
       "      <th>1</th>\n",
       "      <td>5adc2d51554299438c868d69</td>\n",
       "      <td>322632</td>\n",
       "      <td>1.0</td>\n",
       "    </tr>\n",
       "    <tr>\n",
       "      <th>2</th>\n",
       "      <td>5ae0f0f95542990adbacf6e8</td>\n",
       "      <td>18459715</td>\n",
       "      <td>1.0</td>\n",
       "    </tr>\n",
       "    <tr>\n",
       "      <th>3</th>\n",
       "      <td>5abeb1a45542990832d3a0b4</td>\n",
       "      <td>1049937</td>\n",
       "      <td>1.0</td>\n",
       "    </tr>\n",
       "    <tr>\n",
       "      <th>4</th>\n",
       "      <td>5ac313e75542995ef918c0f7</td>\n",
       "      <td>40367176</td>\n",
       "      <td>1.0</td>\n",
       "    </tr>\n",
       "    <tr>\n",
       "      <th>...</th>\n",
       "      <td>...</td>\n",
       "      <td>...</td>\n",
       "      <td>...</td>\n",
       "    </tr>\n",
       "    <tr>\n",
       "      <th>182</th>\n",
       "      <td>5a7339655542991f29ee2d68</td>\n",
       "      <td>23247967</td>\n",
       "      <td>1.0</td>\n",
       "    </tr>\n",
       "    <tr>\n",
       "      <th>183</th>\n",
       "      <td>5a7c8f705542990527d554d0</td>\n",
       "      <td>35760918</td>\n",
       "      <td>1.0</td>\n",
       "    </tr>\n",
       "    <tr>\n",
       "      <th>184</th>\n",
       "      <td>5a84a20b5542991dd0999d50</td>\n",
       "      <td>62153</td>\n",
       "      <td>1.0</td>\n",
       "    </tr>\n",
       "    <tr>\n",
       "      <th>185</th>\n",
       "      <td>5a7c9ea055429907fabeefcc</td>\n",
       "      <td>1374187</td>\n",
       "      <td>1.0</td>\n",
       "    </tr>\n",
       "    <tr>\n",
       "      <th>186</th>\n",
       "      <td>5ae691f155429908198fa62f</td>\n",
       "      <td>27159</td>\n",
       "      <td>1.0</td>\n",
       "    </tr>\n",
       "  </tbody>\n",
       "</table>\n",
       "<p>187 rows × 3 columns</p>\n",
       "</div>"
      ],
      "text/plain": [
       "                     query-id corpus-id  score\n",
       "0    5ae75ace5542997b22f6a6f3   3395507    1.0\n",
       "1    5adc2d51554299438c868d69    322632    1.0\n",
       "2    5ae0f0f95542990adbacf6e8  18459715    1.0\n",
       "3    5abeb1a45542990832d3a0b4   1049937    1.0\n",
       "4    5ac313e75542995ef918c0f7  40367176    1.0\n",
       "..                        ...       ...    ...\n",
       "182  5a7339655542991f29ee2d68  23247967    1.0\n",
       "183  5a7c8f705542990527d554d0  35760918    1.0\n",
       "184  5a84a20b5542991dd0999d50     62153    1.0\n",
       "185  5a7c9ea055429907fabeefcc   1374187    1.0\n",
       "186  5ae691f155429908198fa62f     27159    1.0\n",
       "\n",
       "[187 rows x 3 columns]"
      ]
     },
     "execution_count": 42,
     "metadata": {},
     "output_type": "execute_result"
    }
   ],
   "source": [
    "ds_core['train'].to_pandas()"
   ]
  },
  {
   "cell_type": "code",
   "execution_count": 85,
   "id": "7189f061",
   "metadata": {},
   "outputs": [],
   "source": [
    "results = []\n",
    "corpus_df = ds_corpus['corpus'].to_pandas()\n",
    "k = 10\n",
    "corpus_ids = corpus_df['_id'].tolist()\n",
    "for i, row in ds_core['train'].to_pandas().iterrows():\n",
    "    query = row['query-id']\n",
    "    ground_truth = row['corpus-id']\n",
    "    ground_truths = []\n",
    "\n",
    "    similarities = []  \n",
    "    for j, corpus_row in corpus_df.iterrows():\n",
    "        similarity = np.dot(queries_embeddings[i], corpus_embeddings[j])\n",
    "        similarities.append(similarity)\n",
    "        ground_truths.append(1 if corpus_row['_id'] == ground_truth else 0)\n",
    "    \n",
    "    top_indices = np.argsort(similarities)[::-1][:k]\n",
    "    top_corpus_ids = [corpus_ids[idx] for idx in top_indices]\n",
    "    \n",
    "    # Create relevance scores based on ground truth\n",
    "    relevant_corpus_ids = {ground_truth}\n",
    "    relevances = [1.0 if corpus_id in relevant_corpus_ids else 0.0 \n",
    "                    for corpus_id in top_corpus_ids]\n",
    "                    \n",
    "    results.append({\n",
    "        'query-id': query,\n",
    "        'ndcg_at_10': compute_ndcg_at_k(relevances, k),\n",
    "    })\n"
   ]
  },
  {
   "cell_type": "code",
   "execution_count": 86,
   "id": "c490df80",
   "metadata": {},
   "outputs": [],
   "source": [
    "results_frame = pd.DataFrame(results)"
   ]
  },
  {
   "cell_type": "code",
   "execution_count": 87,
   "id": "ad29905b",
   "metadata": {},
   "outputs": [
    {
     "data": {
      "text/plain": [
       "0.44215238908656435"
      ]
     },
     "execution_count": 87,
     "metadata": {},
     "output_type": "execute_result"
    }
   ],
   "source": [
    "results_frame['ndcg_at_10'].mean()"
   ]
  },
  {
   "cell_type": "code",
   "execution_count": null,
   "id": "90d0599a",
   "metadata": {},
   "outputs": [],
   "source": []
  }
 ],
 "metadata": {
  "kernelspec": {
   "display_name": "chemenv",
   "language": "python",
   "name": "python3"
  },
  "language_info": {
   "codemirror_mode": {
    "name": "ipython",
    "version": 3
   },
   "file_extension": ".py",
   "mimetype": "text/x-python",
   "name": "python",
   "nbconvert_exporter": "python",
   "pygments_lexer": "ipython3",
   "version": "3.11.9"
  }
 },
 "nbformat": 4,
 "nbformat_minor": 5
}

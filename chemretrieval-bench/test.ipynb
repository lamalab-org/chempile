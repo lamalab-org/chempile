{
 "cells": [
  {
   "cell_type": "code",
   "execution_count": 77,
   "id": "cd886cae",
   "metadata": {},
   "outputs": [
    {
     "name": "stdout",
     "output_type": "stream",
     "text": [
      "Collecting scikit-learn\n",
      "  Downloading scikit_learn-1.7.1-cp311-cp311-macosx_12_0_arm64.whl.metadata (11 kB)\n",
      "Requirement already satisfied: numpy>=1.22.0 in /Users/kevinmaikjablonka/miniconda3/envs/chemenv/lib/python3.11/site-packages (from scikit-learn) (1.26.4)\n",
      "Collecting scipy>=1.8.0 (from scikit-learn)\n",
      "  Downloading scipy-1.16.0-cp311-cp311-macosx_14_0_arm64.whl.metadata (61 kB)\n",
      "\u001b[2K     \u001b[38;2;114;156;31m━━━━━━━━━━━━━━━━━━━━━━━━━━━━━━━━━━━━━━━\u001b[0m \u001b[32m61.9/61.9 kB\u001b[0m \u001b[31m115.9 kB/s\u001b[0m eta \u001b[36m0:00:00\u001b[0m kB/s\u001b[0m eta \u001b[36m0:00:01\u001b[0m:01\u001b[0m\n",
      "\u001b[?25hCollecting joblib>=1.2.0 (from scikit-learn)\n",
      "  Downloading joblib-1.5.1-py3-none-any.whl.metadata (5.6 kB)\n",
      "Collecting threadpoolctl>=3.1.0 (from scikit-learn)\n",
      "  Downloading threadpoolctl-3.6.0-py3-none-any.whl.metadata (13 kB)\n",
      "Downloading scikit_learn-1.7.1-cp311-cp311-macosx_12_0_arm64.whl (8.7 MB)\n",
      "\u001b[2K   \u001b[38;2;114;156;31m━━━━━━━━━━━━━━━━━━━━━━━━━━━━━━━━━━━━━━━━\u001b[0m \u001b[32m8.7/8.7 MB\u001b[0m \u001b[31m833.8 kB/s\u001b[0m eta \u001b[36m0:00:00\u001b[0mm eta \u001b[36m0:00:01\u001b[0m0:01\u001b[0m:01\u001b[0m\n",
      "\u001b[?25hDownloading joblib-1.5.1-py3-none-any.whl (307 kB)\n",
      "\u001b[2K   \u001b[38;2;114;156;31m━━━━━━━━━━━━━━━━━━━━━━━━━━━━━━━━━━━━━━━━\u001b[0m \u001b[32m307.7/307.7 kB\u001b[0m \u001b[31m2.1 MB/s\u001b[0m eta \u001b[36m0:00:00\u001b[0m[31m2.4 MB/s\u001b[0m eta \u001b[36m0:00:01\u001b[0m\n",
      "\u001b[?25hDownloading scipy-1.16.0-cp311-cp311-macosx_14_0_arm64.whl (20.8 MB)\n",
      "\u001b[2K   \u001b[38;2;114;156;31m━━━━━━━━━━━━━━━━━━━━━━━━━━━━━━━━━━━━━━━━\u001b[0m \u001b[32m20.8/20.8 MB\u001b[0m \u001b[31m2.9 MB/s\u001b[0m eta \u001b[36m0:00:00\u001b[0mm eta \u001b[36m0:00:01\u001b[0m[36m0:00:01\u001b[0m\n",
      "\u001b[?25hDownloading threadpoolctl-3.6.0-py3-none-any.whl (18 kB)\n",
      "Installing collected packages: threadpoolctl, scipy, joblib, scikit-learn\n",
      "Successfully installed joblib-1.5.1 scikit-learn-1.7.1 scipy-1.16.0 threadpoolctl-3.6.0\n"
     ]
    }
   ],
   "source": [
    "!pip install scikit-learn"
   ]
  },
  {
   "cell_type": "code",
   "execution_count": 78,
   "id": "4bab691d",
   "metadata": {},
   "outputs": [],
   "source": [
    "from datasets import load_dataset\n",
    "from openai import OpenAI\n",
    "from  dotenv import load_dotenv\n",
    "import numpy as np\n",
    "import pandas as pd\n",
    "from sklearn.metrics.pairwise import cosine_similarity\n",
    "from typing import List\n",
    "load_dotenv()\n",
    "client = OpenAI()\n"
   ]
  },
  {
   "cell_type": "code",
   "execution_count": 36,
   "id": "8864adcd",
   "metadata": {},
   "outputs": [
    {
     "name": "stderr",
     "output_type": "stream",
     "text": [
      "Using the latest cached version of the dataset since BASF-AI/ChemHotpotQARetrieval couldn't be found on the Hugging Face Hub\n",
      "Found the latest cached dataset configuration 'default' at /Users/kevinmaikjablonka/.cache/huggingface/datasets/BASF-AI___chem_hotpot_qa_retrieval/default/0.0.0/1840e8a5ac6ec752bbdd97d543ead0189bc7c25b (last modified on Fri Jul 25 22:36:13 2025).\n",
      "Using the latest cached version of the dataset since BASF-AI/ChemHotpotQARetrieval couldn't be found on the Hugging Face Hub\n",
      "Found the latest cached dataset configuration 'corpus' at /Users/kevinmaikjablonka/.cache/huggingface/datasets/BASF-AI___chem_hotpot_qa_retrieval/corpus/0.0.0/1840e8a5ac6ec752bbdd97d543ead0189bc7c25b (last modified on Fri Jul 25 23:04:49 2025).\n",
      "Using the latest cached version of the dataset since BASF-AI/ChemHotpotQARetrieval couldn't be found on the Hugging Face Hub\n",
      "Found the latest cached dataset configuration 'queries' at /Users/kevinmaikjablonka/.cache/huggingface/datasets/BASF-AI___chem_hotpot_qa_retrieval/queries/0.0.0/1840e8a5ac6ec752bbdd97d543ead0189bc7c25b (last modified on Fri Jul 25 22:36:16 2025).\n"
     ]
    }
   ],
   "source": [
    "ds_core = load_dataset(\"BASF-AI/ChemHotpotQARetrieval\", \"default\")\n",
    "ds_corpus = load_dataset(\"BASF-AI/ChemHotpotQARetrieval\", \"corpus\")\n",
    "ds_queries = load_dataset(\"BASF-AI/ChemHotpotQARetrieval\", \"queries\")"
   ]
  },
  {
   "cell_type": "code",
   "execution_count": 35,
   "id": "273386d3",
   "metadata": {},
   "outputs": [],
   "source": [
    "def get_embedding(text):\n",
    "    response = client.embeddings.create(\n",
    "        input=text,\n",
    "        model=\"text-embedding-3-small\"\n",
    "    )\n",
    "    return response.data[0].embedding"
   ]
  },
  {
   "cell_type": "code",
   "execution_count": 6,
   "id": "c9107743",
   "metadata": {},
   "outputs": [],
   "source": [
    "corpus_embeddings = [get_embedding(text) for text in ds_corpus['corpus']['text']]"
   ]
  },
  {
   "cell_type": "code",
   "execution_count": 10,
   "id": "dc560eaf",
   "metadata": {},
   "outputs": [],
   "source": [
    "def save_embeddings(embeddings, filename):\n",
    "    np.save(filename, embeddings)"
   ]
  },
  {
   "cell_type": "code",
   "execution_count": 11,
   "id": "2d973367",
   "metadata": {},
   "outputs": [],
   "source": [
    "save_embeddings(corpus_embeddings, \"corpus_embeddings.npy\")"
   ]
  },
  {
   "cell_type": "code",
   "execution_count": 37,
   "id": "53f9307f",
   "metadata": {},
   "outputs": [],
   "source": [
    "queries_embeddings  = [get_embedding(text) for text in ds_queries['queries']['text']]"
   ]
  },
  {
   "cell_type": "code",
   "execution_count": 38,
   "id": "00624b15",
   "metadata": {},
   "outputs": [],
   "source": [
    "save_embeddings(queries_embeddings, \"queries_embeddings.npy\")"
   ]
  },
  {
   "cell_type": "code",
   "execution_count": null,
   "id": "d70aafd2",
   "metadata": {},
   "outputs": [],
   "source": [
    "corpus_embeddings = np.load('corpus_embeddings.npy')\n",
    "queries_embeddings = np.load('cqueries_embeddings.npy')"
   ]
  },
  {
   "cell_type": "code",
   "execution_count": 79,
   "id": "27e68d53",
   "metadata": {},
   "outputs": [],
   "source": [
    "\n",
    "\n",
    "def compute_dcg_at_k(relevances: List[float], k: int) -> float:\n",
    "    \"\"\"\n",
    "    Compute Discounted Cumulative Gain at rank k.\n",
    "    \n",
    "    Args:\n",
    "        relevances: List of relevance scores for ranked items\n",
    "        k: Rank cutoff\n",
    "    \n",
    "    Returns:\n",
    "        DCG@k score\n",
    "    \"\"\"\n",
    "    relevances = np.array(relevances[:k])\n",
    "    if len(relevances) == 0:\n",
    "        return 0.0\n",
    "    \n",
    "    # DCG formula: sum((2^rel - 1) / log2(rank + 1)) for rank 1 to k\n",
    "    ranks = np.arange(1, len(relevances) + 1)\n",
    "    dcg = np.sum((2**relevances - 1) / np.log2(ranks + 1))\n",
    "    return dcg\n",
    "\n",
    "def compute_ndcg_at_k(relevances: List[float], k: int) -> float:\n",
    "    \"\"\"\n",
    "    Compute Normalized Discounted Cumulative Gain at rank k.\n",
    "    \n",
    "    Args:\n",
    "        relevances: List of relevance scores for ranked items\n",
    "        k: Rank cutoff\n",
    "    \n",
    "    Returns:\n",
    "        NDCG@k score\n",
    "    \"\"\"\n",
    "    # Actual DCG\n",
    "    dcg = compute_dcg_at_k(relevances, k)\n",
    "    \n",
    "    # Ideal DCG (sort relevances in descending order)\n",
    "    ideal_relevances = sorted(relevances, reverse=True)\n",
    "    idcg = compute_dcg_at_k(ideal_relevances, k)\n",
    "    \n",
    "    if idcg == 0:\n",
    "        return 0.0\n",
    "    \n",
    "    return dcg / idcg"
   ]
  },
  {
   "cell_type": "code",
   "execution_count": 41,
   "id": "e4249c07",
   "metadata": {},
   "outputs": [],
   "source": [
    "queries_embeddings = np.array(queries_embeddings)\n",
    "corpus_embeddings = np.array(corpus_embeddings)"
   ]
  },
  {
   "cell_type": "code",
   "execution_count": 94,
   "id": "7189f061",
   "metadata": {},
   "outputs": [],
   "source": [
    "results = []\n",
    "corpus_df = ds_corpus['corpus'].to_pandas()\n",
    "k = 10\n",
    "corpus_ids = corpus_df['_id'].tolist()\n",
    "for i, row in ds_core['train'].to_pandas().iterrows():\n",
    "    query = row['query-id']\n",
    "    ground_truth = row['corpus-id']\n",
    "    ground_truths = []\n",
    "\n",
    "    similarities = []  \n",
    "    for j, corpus_row in corpus_df.iterrows():\n",
    "        similarity = cosine_similarity(\n",
    "            [queries_embeddings[i]], \n",
    "            [corpus_embeddings[j]]\n",
    "        )[0][0]\n",
    "        similarities.append(similarity)\n",
    "        ground_truths.append(1 if corpus_row['_id'] == ground_truth else 0)\n",
    "    \n",
    "    top_indices = np.argsort(similarities)[::-1][:k]\n",
    "    top_corpus_ids = [corpus_ids[idx] for idx in top_indices]\n",
    "    \n",
    "    # Create relevance scores based on ground truth\n",
    "    relevant_corpus_ids = {ground_truth}\n",
    "    relevances = [1.0 if corpus_id in relevant_corpus_ids else 0.0 \n",
    "                    for corpus_id in top_corpus_ids]\n",
    "                    \n",
    "    results.append({\n",
    "        'query-id': query,\n",
    "        'ndcg_at_10': compute_ndcg_at_k(relevances, k),\n",
    "    })\n"
   ]
  },
  {
   "cell_type": "code",
   "execution_count": 97,
   "id": "c490df80",
   "metadata": {},
   "outputs": [],
   "source": [
    "results_frame = pd.DataFrame(results)"
   ]
  },
  {
   "cell_type": "code",
   "execution_count": 98,
   "id": "ad29905b",
   "metadata": {},
   "outputs": [
    {
     "data": {
      "text/plain": [
       "0.44215238908656435"
      ]
     },
     "execution_count": 98,
     "metadata": {},
     "output_type": "execute_result"
    }
   ],
   "source": [
    "results_frame['ndcg_at_10'].mean()"
   ]
  },
  {
   "cell_type": "code",
   "execution_count": null,
   "id": "90d0599a",
   "metadata": {},
   "outputs": [],
   "source": []
  },
  {
   "cell_type": "code",
   "execution_count": null,
   "id": "d0d5c423",
   "metadata": {},
   "outputs": [],
   "source": []
  }
 ],
 "metadata": {
  "kernelspec": {
   "display_name": "chemenv",
   "language": "python",
   "name": "python3"
  },
  "language_info": {
   "codemirror_mode": {
    "name": "ipython",
    "version": 3
   },
   "file_extension": ".py",
   "mimetype": "text/x-python",
   "name": "python",
   "nbconvert_exporter": "python",
   "pygments_lexer": "ipython3",
   "version": "3.11.9"
  }
 },
 "nbformat": 4,
 "nbformat_minor": 5
}

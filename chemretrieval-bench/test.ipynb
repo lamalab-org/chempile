{
 "cells": [
  {
   "cell_type": "code",
   "execution_count": 9,
   "id": "4bab691d",
   "metadata": {},
   "outputs": [],
   "source": [
    "from datasets import load_dataset\n",
    "from openai import OpenAI\n",
    "from  dotenv import load_dotenv\n",
    "import numpy as np\n",
    "\n",
    "load_dotenv()\n",
    "client = OpenAI()\n"
   ]
  },
  {
   "cell_type": "code",
   "execution_count": 2,
   "id": "8864adcd",
   "metadata": {},
   "outputs": [],
   "source": [
    "ds_core = load_dataset(\"BASF-AI/ChemHotpotQARetrieval\", \"default\")\n",
    "ds_corpus = load_dataset(\"BASF-AI/ChemHotpotQARetrieval\", \"corpus\")\n",
    "ds_queries = load_dataset(\"BASF-AI/ChemHotpotQARetrieval\", \"queries\")"
   ]
  },
  {
   "cell_type": "code",
   "execution_count": 18,
   "id": "20aadabf",
   "metadata": {},
   "outputs": [
    {
     "ename": "ValueError",
     "evalue": "Column 'scre' doesn't exist.",
     "output_type": "error",
     "traceback": [
      "\u001b[31m---------------------------------------------------------------------------\u001b[39m",
      "\u001b[31mValueError\u001b[39m                                Traceback (most recent call last)",
      "\u001b[36mCell\u001b[39m\u001b[36m \u001b[39m\u001b[32mIn[18]\u001b[39m\u001b[32m, line 1\u001b[39m\n\u001b[32m----> \u001b[39m\u001b[32m1\u001b[39m ds_core[\u001b[33m'\u001b[39m\u001b[33mtrain\u001b[39m\u001b[33m'\u001b[39m][\u001b[33m'\u001b[39m\u001b[33mscre\u001b[39m\u001b[33m'\u001b[39m]\n",
      "\u001b[36mFile \u001b[39m\u001b[32m~/miniconda3/envs/chemenv/lib/python3.11/site-packages/datasets/arrow_dataset.py:2858\u001b[39m, in \u001b[36mDataset.__getitem__\u001b[39m\u001b[34m(self, key)\u001b[39m\n\u001b[32m   2856\u001b[39m \u001b[38;5;28;01mif\u001b[39;00m \u001b[38;5;28misinstance\u001b[39m(key, \u001b[38;5;28mstr\u001b[39m):\n\u001b[32m   2857\u001b[39m     \u001b[38;5;28;01mif\u001b[39;00m \u001b[38;5;28mself\u001b[39m._format_type \u001b[38;5;129;01mis\u001b[39;00m \u001b[38;5;28;01mNone\u001b[39;00m \u001b[38;5;129;01mor\u001b[39;00m \u001b[38;5;28mself\u001b[39m._format_type \u001b[38;5;129;01mnot\u001b[39;00m \u001b[38;5;129;01min\u001b[39;00m (\u001b[33m\"\u001b[39m\u001b[33marrow\u001b[39m\u001b[33m\"\u001b[39m, \u001b[33m\"\u001b[39m\u001b[33mpandas\u001b[39m\u001b[33m\"\u001b[39m, \u001b[33m\"\u001b[39m\u001b[33mpolars\u001b[39m\u001b[33m\"\u001b[39m):\n\u001b[32m-> \u001b[39m\u001b[32m2858\u001b[39m         \u001b[38;5;28;01mreturn\u001b[39;00m Column(\u001b[38;5;28mself\u001b[39m, key)\n\u001b[32m   2859\u001b[39m \u001b[38;5;28;01mreturn\u001b[39;00m \u001b[38;5;28mself\u001b[39m._getitem(key)\n",
      "\u001b[36mFile \u001b[39m\u001b[32m~/miniconda3/envs/chemenv/lib/python3.11/site-packages/datasets/arrow_dataset.py:656\u001b[39m, in \u001b[36mColumn.__init__\u001b[39m\u001b[34m(self, source, column_name)\u001b[39m\n\u001b[32m    654\u001b[39m \u001b[38;5;28mself\u001b[39m.column_name = column_name\n\u001b[32m    655\u001b[39m \u001b[38;5;28;01mif\u001b[39;00m \u001b[38;5;129;01mnot\u001b[39;00m \u001b[38;5;28misinstance\u001b[39m(source.features, \u001b[38;5;28mdict\u001b[39m) \u001b[38;5;129;01mor\u001b[39;00m column_name \u001b[38;5;129;01mnot\u001b[39;00m \u001b[38;5;129;01min\u001b[39;00m source.features:\n\u001b[32m--> \u001b[39m\u001b[32m656\u001b[39m     \u001b[38;5;28;01mraise\u001b[39;00m \u001b[38;5;167;01mValueError\u001b[39;00m(\u001b[33mf\u001b[39m\u001b[33m\"\u001b[39m\u001b[33mColumn \u001b[39m\u001b[33m'\u001b[39m\u001b[38;5;132;01m{\u001b[39;00mcolumn_name\u001b[38;5;132;01m}\u001b[39;00m\u001b[33m'\u001b[39m\u001b[33m doesn\u001b[39m\u001b[33m'\u001b[39m\u001b[33mt exist.\u001b[39m\u001b[33m\"\u001b[39m)\n\u001b[32m    657\u001b[39m \u001b[38;5;28mself\u001b[39m.features = source.features[column_name]\n",
      "\u001b[31mValueError\u001b[39m: Column 'scre' doesn't exist."
     ]
    }
   ],
   "source": [
    "ds_core['train']['scre']"
   ]
  },
  {
   "cell_type": "code",
   "execution_count": 5,
   "id": "273386d3",
   "metadata": {},
   "outputs": [],
   "source": [
    "def get_embedding(text):\n",
    "    response = client.embeddings.create(\n",
    "        input=text,\n",
    "        model=\"text-embedding-3-small\"\n",
    "    )\n",
    "    return response.data[0].embedding"
   ]
  },
  {
   "cell_type": "code",
   "execution_count": null,
   "id": "fd8f770b",
   "metadata": {},
   "outputs": [],
   "source": [
    "df_core"
   ]
  },
  {
   "cell_type": "code",
   "execution_count": 6,
   "id": "c9107743",
   "metadata": {},
   "outputs": [],
   "source": [
    "corpus_embeddings = [get_embedding(text) for text in ds_corpus['corpus']['text']]"
   ]
  },
  {
   "cell_type": "code",
   "execution_count": 10,
   "id": "dc560eaf",
   "metadata": {},
   "outputs": [],
   "source": [
    "def save_embeddings(embeddings, filename):\n",
    "    np.save(filename, embeddings)"
   ]
  },
  {
   "cell_type": "code",
   "execution_count": 11,
   "id": "2d973367",
   "metadata": {},
   "outputs": [],
   "source": [
    "save_embeddings(corpus_embeddings, \"corpus_embeddings.npy\")"
   ]
  },
  {
   "cell_type": "code",
   "execution_count": 12,
   "id": "53f9307f",
   "metadata": {},
   "outputs": [],
   "source": [
    "queries_embeddings  = [get_embedding(text) for text in ds_queries['queries']['text']]"
   ]
  },
  {
   "cell_type": "code",
   "execution_count": 13,
   "id": "00624b15",
   "metadata": {},
   "outputs": [],
   "source": [
    "save_embeddings(corpus_embeddings, \"corpus_embeddings.npy\")"
   ]
  },
  {
   "cell_type": "code",
   "execution_count": null,
   "id": "27e68d53",
   "metadata": {},
   "outputs": [],
   "source": [
    "def ndcd_at_10(predictions, ground_truths):\n",
    "    \"\"\"\n",
    "    Calculate the Normalized Discounted Cumulative Gain (NDCG) at rank 10.\n",
    "    \"\"\"\n",
    "    dcg = 0.0\n",
    "    idcg = 0.0\n",
    "\n",
    "    for i in range(min(10, len(predictions))):\n",
    "        if predictions[i] in ground_truths:\n",
    "            dcg += 1 / (i + 1)\n",
    "        idcg += 1 / (i + 1)\n",
    "\n",
    "    return dcg / idcg if idcg > 0 else 0.0"
   ]
  },
  {
   "cell_type": "code",
   "execution_count": null,
   "id": "4731ea0c",
   "metadata": {},
   "outputs": [
    {
     "data": {
      "text/plain": [
       "Dataset({\n",
       "    features: ['query-id', 'corpus-id', 'score'],\n",
       "    num_rows: 187\n",
       "})"
      ]
     },
     "execution_count": 20,
     "metadata": {},
     "output_type": "execute_result"
    }
   ],
   "source": [
    "\n",
    " ds_core['train'].to_pandas().to_csv(\"chemretrieval_bench_train.csv\", index=False)"
   ]
  },
  {
   "cell_type": "code",
   "execution_count": 23,
   "id": "e4249c07",
   "metadata": {},
   "outputs": [],
   "source": [
    "queries_embeddings = np.array(queries_embeddings)\n",
    "corpus_embeddings = np.array(corpus_embeddings)"
   ]
  },
  {
   "cell_type": "code",
   "execution_count": 25,
   "id": "7189f061",
   "metadata": {},
   "outputs": [
    {
     "name": "stdout",
     "output_type": "stream",
     "text": [
      "5ae75ace5542997b22f6a6f3 3395507\n"
     ]
    },
    {
     "ename": "IndexError",
     "evalue": "only integers, slices (`:`), ellipsis (`...`), numpy.newaxis (`None`) and integer or boolean arrays are valid indices",
     "output_type": "error",
     "traceback": [
      "\u001b[31m---------------------------------------------------------------------------\u001b[39m",
      "\u001b[31mIndexError\u001b[39m                                Traceback (most recent call last)",
      "\u001b[36mCell\u001b[39m\u001b[36m \u001b[39m\u001b[32mIn[25]\u001b[39m\u001b[32m, line 11\u001b[39m\n\u001b[32m      9\u001b[39m \u001b[38;5;28mprint\u001b[39m(query, ground_truths)\n\u001b[32m     10\u001b[39m \u001b[38;5;28;01mfor\u001b[39;00m j, corpus_row \u001b[38;5;129;01min\u001b[39;00m ds_corpus[\u001b[33m'\u001b[39m\u001b[33mcorpus\u001b[39m\u001b[33m'\u001b[39m].to_pandas().iterrows():\n\u001b[32m---> \u001b[39m\u001b[32m11\u001b[39m     similarity = np.dot(queries_embeddings[query], corpus_embeddings[corpus_row[\u001b[33m'\u001b[39m\u001b[33mid\u001b[39m\u001b[33m'\u001b[39m]])\n\u001b[32m     12\u001b[39m     predictions.append((corpus_row[\u001b[33m'\u001b[39m\u001b[33mid\u001b[39m\u001b[33m'\u001b[39m], similarity))\n\u001b[32m     14\u001b[39m predictions.sort(key=\u001b[38;5;28;01mlambda\u001b[39;00m x: x[\u001b[32m1\u001b[39m], reverse=\u001b[38;5;28;01mTrue\u001b[39;00m)\n",
      "\u001b[31mIndexError\u001b[39m: only integers, slices (`:`), ellipsis (`...`), numpy.newaxis (`None`) and integer or boolean arrays are valid indices"
     ]
    }
   ],
   "source": [
    "results = []\n",
    "for i, row in ds_core['train'].to_pandas().iterrows():\n",
    "    query = row['query-id']\n",
    "    ground_truths = row['corpus-id']\n",
    "\n",
    "    # retrieve the now using the embeddings\n",
    "    predictions = []  \n",
    "    # cosine similarity or any other retrieval method can be applied here\n",
    "    print(query, ground_truths)\n",
    "    for j, corpus_row in ds_corpus['corpus'].to_pandas().iterrows():\n",
    "        similarity = np.dot(queries_embeddings[query], corpus_embeddings[corpus_row['id']])\n",
    "        predictions.append((corpus_row['id'], similarity))\n",
    "    \n",
    "    predictions.sort(key=lambda x: x[1], reverse=True)\n",
    "    predictions = [pred[0] for pred in predictions[:10]]  # Top\n",
    "    ndcg = ndcd_at_10(predictions, ground_truths)\n",
    "    results.append({\n",
    "        'query-id': query,\n",
    "        'ndcg_at_10': ndcg\n",
    "    })\n"
   ]
  },
  {
   "cell_type": "code",
   "execution_count": null,
   "id": "c490df80",
   "metadata": {},
   "outputs": [],
   "source": []
  },
  {
   "cell_type": "code",
   "execution_count": null,
   "id": "ad29905b",
   "metadata": {},
   "outputs": [],
   "source": []
  }
 ],
 "metadata": {
  "kernelspec": {
   "display_name": "chemenv",
   "language": "python",
   "name": "python3"
  },
  "language_info": {
   "codemirror_mode": {
    "name": "ipython",
    "version": 3
   },
   "file_extension": ".py",
   "mimetype": "text/x-python",
   "name": "python",
   "nbconvert_exporter": "python",
   "pygments_lexer": "ipython3",
   "version": "3.11.9"
  }
 },
 "nbformat": 4,
 "nbformat_minor": 5
}
